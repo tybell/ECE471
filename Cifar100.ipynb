{
  "nbformat": 4,
  "nbformat_minor": 0,
  "metadata": {
    "colab": {
      "name": "Cifar100.ipynb",
      "version": "0.3.2",
      "provenance": [],
      "include_colab_link": true
    },
    "kernelspec": {
      "name": "python3",
      "display_name": "Python 3"
    }
  },
  "cells": [
    {
      "cell_type": "markdown",
      "metadata": {
        "id": "view-in-github",
        "colab_type": "text"
      },
      "source": [
        "[View in Colaboratory](https://colab.research.google.com/github/tybell/ECE471/blob/master/Cifar100.ipynb)"
      ]
    },
    {
      "metadata": {
        "id": "nWykd4OfQWDp",
        "colab_type": "code",
        "colab": {
          "base_uri": "https://localhost:8080/",
          "height": 207
        },
        "outputId": "9c824ba5-d223-4c15-aff1-39eea70944ab"
      },
      "cell_type": "code",
      "source": [
        "#Keras Function API\n",
        "import keras\n",
        "from keras.layers import Input, Dense, Flatten, Activation, Conv2D, BatchNormalization, Dropout, MaxPooling2D, AveragePooling2D\n",
        "from keras.regularizers import l2\n",
        "from keras.models import Model\n",
        "from keras.datasets import cifar100\n",
        "import tensorflow as tf\n",
        "import numpy as np\n",
        "\n",
        "batch_size = 32\n",
        "num_classes = 100\n",
        "num_epochs = 20\n",
        "\n",
        "class CIFAR100_Data:\n",
        "  def __init__(self):\n",
        "    (x_train, y_train), (x_test, y_test) = cifar100.load_data()\n",
        "    self.img_shape = (32,32,3)\n",
        "    self.x_train = x_train.reshape(x_train.shape[0], self.img_shape[0], self.img_shape[1], self.img_shape[2])/255.0\n",
        "    self.y_train = keras.utils.to_categorical(y_train, num_classes)\n",
        "    self.x_test = x_test.reshape(x_test.shape[0], self.img_shape[0], self.img_shape[1], self.img_shape[2])/255.0\n",
        "    self.y_test = keras.utils.to_categorical(y_test, num_classes)\n",
        "  def train(self):\n",
        "    indices = np.arange(len(y_train))\n",
        "    random_indices = np.random.choice(indices)\n",
        "    return self.x_train[random_indices], self.y_train[random_indices]\n",
        "  def test(self):\n",
        "    return self.x_test, self.y_test\n",
        "  def input_shape(self):\n",
        "    return self.img_shape\n",
        "\n",
        "data = CIFAR100_Data()\n",
        "def ComputationalGraph2(inputs):\n",
        "  x = Conv2D(128, (3,3), kernel_initializer = 'he_normal', activation='relu')(inputs)\n",
        "  x = MaxPooling2D((2,2))(x)\n",
        "  x = Conv2D(64, (3,3), kernel_initializer = 'he_normal')(x)\n",
        "  x = MaxPooling2D((2,2))(x)\n",
        "  x = Conv2D(128, (3,3), kernel_initializer = 'he_normal')(x)\n",
        "  x = BatchNormalization()(x)\n",
        "  x = Activation('relu')(x)\n",
        "  x = Dropout(0.4)(x)\n",
        "\n",
        "  x = Inception(x)\n",
        "  x = Inception(x)\n",
        "  x = MaxPooling2D((2,2))(x)\n",
        "  x = BatchNormalization()(x)\n",
        "  x = Dropout(0.2)(x)\n",
        "\n",
        "  x = Inception(x)\n",
        "  x = Inception(x)\n",
        "  x = MaxPooling2D((2,2))(x)\n",
        "  x = BatchNormalization()(x)\n",
        "  x = Dropout(0.2)(x)\n",
        "\n",
        "  x = Flatten()(x)\n",
        "  x = Dense(256, kernel_regularizer = l2(0.01), activation = 'relu')(x)\n",
        "  x = BatchNormalization()(x)\n",
        "  x = Dropout(0.2)(x)\n",
        "  predictions = Dense(100, activation = 'softmax')(x)\n",
        "  return predictions  \n",
        "\n",
        "def Inception(x):\n",
        "  conv_1 = Conv2D(64, (1, 1), padding='same', kernel_initializer = 'he_normal', activation='relu')(x)\n",
        "  conv_1 = Conv2D(64, (3, 3), padding='same', kernel_initializer = 'he_normal', activation='relu')(conv_1)\n",
        "\n",
        "  conv_2 = Conv2D(64, (1, 1), padding='same', kernel_initializer = 'he_normal', activation='relu')(x)\n",
        "  conv_2 = Conv2D(64, (5, 5), padding='same', kernel_initializer = 'he_normal', activation='relu')(conv_2)\n",
        "\n",
        "  conv_3 = MaxPooling2D((3, 3), strides=(1, 1), padding='same')(x)\n",
        "  conv_3 = Conv2D(64, (1, 1), padding='same', kernel_initializer = 'he_normal', activation='relu')(conv_3)\n",
        "  x = keras.layers.concatenate([conv_1, conv_2, conv_3], axis=1)\n",
        "  return x  \n",
        "  \n",
        "inputs = Input(shape = data.input_shape())\n",
        "model = Model(inputs = inputs, outputs = ComputationalGraph2(inputs)) \n",
        "model.compile(optimizer='Adam',\n",
        "    loss = 'categorical_crossentropy',\n",
        "    metrics = ['top_k_categorical_accuracy'])\n",
        "\n",
        "model.fit(data.x_train, data.y_train, verbose=True, batch_size = batch_size, epochs = 3, validation_split = 0.15)\n",
        "\n",
        "score = model.evaluate(data.x_test, data.y_test, verbose=True)\n",
        "print(score[0])\n",
        "print(score[1])"
      ],
      "execution_count": 3,
      "outputs": [
        {
          "output_type": "stream",
          "text": [
            "Train on 42500 samples, validate on 7500 samples\n",
            "Epoch 1/3\n",
            "42500/42500 [==============================] - 577s 14ms/step - loss: 4.7798 - top_k_categorical_accuracy: 0.2883 - val_loss: 4.8222 - val_top_k_categorical_accuracy: 0.1653\n",
            "Epoch 2/3\n",
            "42500/42500 [==============================] - 568s 13ms/step - loss: 3.7016 - top_k_categorical_accuracy: 0.4592 - val_loss: 4.9130 - val_top_k_categorical_accuracy: 0.2192\n",
            "Epoch 3/3\n",
            "42500/42500 [==============================] - 555s 13ms/step - loss: 3.3565 - top_k_categorical_accuracy: 0.5352 - val_loss: 4.2155 - val_top_k_categorical_accuracy: 0.3124\n",
            "10000/10000 [==============================] - 33s 3ms/step\n",
            "4.195183715057373\n",
            "0.3174\n"
          ],
          "name": "stdout"
        }
      ]
    },
    {
      "metadata": {
        "id": "rAwqvuL_QdPx",
        "colab_type": "code",
        "colab": {
          "base_uri": "https://localhost:8080/",
          "height": 241
        },
        "outputId": "53c21959-2bf2-4d2d-fbfc-f4044677aaad"
      },
      "cell_type": "code",
      "source": [
        "model.fit(data.x_train, data.y_train, verbose=True, batch_size = batch_size, epochs = 5, validation_split = 0.15)"
      ],
      "execution_count": 4,
      "outputs": [
        {
          "output_type": "stream",
          "text": [
            "Train on 42500 samples, validate on 7500 samples\n",
            "Epoch 1/5\n",
            "42500/42500 [==============================] - 563s 13ms/step - loss: 3.1447 - top_k_categorical_accuracy: 0.5866 - val_loss: 4.8031 - val_top_k_categorical_accuracy: 0.2688\n",
            "Epoch 2/5\n",
            "42500/42500 [==============================] - 539s 13ms/step - loss: 3.0102 - top_k_categorical_accuracy: 0.6157 - val_loss: 3.3342 - val_top_k_categorical_accuracy: 0.5227\n",
            "Epoch 3/5\n",
            "42500/42500 [==============================] - 534s 13ms/step - loss: 2.8850 - top_k_categorical_accuracy: 0.6428 - val_loss: 3.3731 - val_top_k_categorical_accuracy: 0.5157\n",
            "Epoch 4/5\n",
            "42500/42500 [==============================] - 573s 13ms/step - loss: 2.7828 - top_k_categorical_accuracy: 0.6628 - val_loss: 3.1444 - val_top_k_categorical_accuracy: 0.5733\n",
            "Epoch 5/5\n",
            "42500/42500 [==============================] - 590s 14ms/step - loss: 2.7217 - top_k_categorical_accuracy: 0.6773 - val_loss: 3.0764 - val_top_k_categorical_accuracy: 0.5857\n"
          ],
          "name": "stdout"
        },
        {
          "output_type": "execute_result",
          "data": {
            "text/plain": [
              "<keras.callbacks.History at 0x7f44b84970b8>"
            ]
          },
          "metadata": {
            "tags": []
          },
          "execution_count": 4
        }
      ]
    },
    {
      "metadata": {
        "id": "ROuxLK4WTYCz",
        "colab_type": "code",
        "colab": {
          "base_uri": "https://localhost:8080/",
          "height": 241
        },
        "outputId": "11b629e9-b75b-462d-ef5c-95b154e9cc67"
      },
      "cell_type": "code",
      "source": [
        "model.fit(data.x_train, data.y_train, verbose=True, batch_size = batch_size, epochs = 5, validation_split = 0.15)"
      ],
      "execution_count": 5,
      "outputs": [
        {
          "output_type": "stream",
          "text": [
            "Train on 42500 samples, validate on 7500 samples\n",
            "Epoch 1/5\n",
            "42500/42500 [==============================] - 575s 14ms/step - loss: 2.6541 - top_k_categorical_accuracy: 0.6908 - val_loss: 3.3080 - val_top_k_categorical_accuracy: 0.5401\n",
            "Epoch 2/5\n",
            "42500/42500 [==============================] - 581s 14ms/step - loss: 2.5981 - top_k_categorical_accuracy: 0.7021 - val_loss: 3.2414 - val_top_k_categorical_accuracy: 0.5636\n",
            "Epoch 3/5\n",
            "42500/42500 [==============================] - 583s 14ms/step - loss: 2.5519 - top_k_categorical_accuracy: 0.7138 - val_loss: 2.9094 - val_top_k_categorical_accuracy: 0.6271\n",
            "Epoch 4/5\n",
            "42500/42500 [==============================] - 579s 14ms/step - loss: 2.4961 - top_k_categorical_accuracy: 0.7282 - val_loss: 2.7798 - val_top_k_categorical_accuracy: 0.6581\n",
            "Epoch 5/5\n",
            "42500/42500 [==============================] - 573s 13ms/step - loss: 2.4476 - top_k_categorical_accuracy: 0.7353 - val_loss: 3.0080 - val_top_k_categorical_accuracy: 0.6144\n"
          ],
          "name": "stdout"
        },
        {
          "output_type": "execute_result",
          "data": {
            "text/plain": [
              "<keras.callbacks.History at 0x7f44b8497518>"
            ]
          },
          "metadata": {
            "tags": []
          },
          "execution_count": 5
        }
      ]
    },
    {
      "metadata": {
        "id": "3peI5SLmYwvz",
        "colab_type": "code",
        "colab": {
          "base_uri": "https://localhost:8080/",
          "height": 241
        },
        "outputId": "6bb56859-6946-4a4c-ada8-a7dff0d0b8ef"
      },
      "cell_type": "code",
      "source": [
        "model.fit(data.x_train, data.y_train, verbose=True, batch_size = batch_size, epochs = 5, validation_split = 0.15)"
      ],
      "execution_count": 6,
      "outputs": [
        {
          "output_type": "stream",
          "text": [
            "Train on 42500 samples, validate on 7500 samples\n",
            "Epoch 1/5\n",
            "42500/42500 [==============================] - 572s 13ms/step - loss: 2.4201 - top_k_categorical_accuracy: 0.7412 - val_loss: 2.7475 - val_top_k_categorical_accuracy: 0.6779\n",
            "Epoch 2/5\n",
            "42500/42500 [==============================] - 565s 13ms/step - loss: 2.3978 - top_k_categorical_accuracy: 0.7498 - val_loss: 2.9919 - val_top_k_categorical_accuracy: 0.6235\n",
            "Epoch 3/5\n",
            "42500/42500 [==============================] - 570s 13ms/step - loss: 2.3349 - top_k_categorical_accuracy: 0.7544 - val_loss: 3.3779 - val_top_k_categorical_accuracy: 0.5396\n",
            "Epoch 4/5\n",
            "42500/42500 [==============================] - 567s 13ms/step - loss: 2.3047 - top_k_categorical_accuracy: 0.7624 - val_loss: 2.8276 - val_top_k_categorical_accuracy: 0.6449\n",
            "Epoch 5/5\n",
            "42500/42500 [==============================] - 574s 13ms/step - loss: 2.2512 - top_k_categorical_accuracy: 0.7718 - val_loss: 2.6964 - val_top_k_categorical_accuracy: 0.6831\n"
          ],
          "name": "stdout"
        },
        {
          "output_type": "execute_result",
          "data": {
            "text/plain": [
              "<keras.callbacks.History at 0x7f44b855fe10>"
            ]
          },
          "metadata": {
            "tags": []
          },
          "execution_count": 6
        }
      ]
    },
    {
      "metadata": {
        "id": "MY6VONG71s2y",
        "colab_type": "code",
        "colab": {
          "base_uri": "https://localhost:8080/",
          "height": 68
        },
        "outputId": "93c20126-9999-41a4-b8b0-58efcd05d5c3"
      },
      "cell_type": "code",
      "source": [
        "score = model.evaluate(data.x_test, data.y_test, verbose=True)\n",
        "print(score[0])\n",
        "print(score[1])"
      ],
      "execution_count": 8,
      "outputs": [
        {
          "output_type": "stream",
          "text": [
            "10000/10000 [==============================] - 34s 3ms/step\n",
            "3.032214708328247\n",
            "0.6192\n"
          ],
          "name": "stdout"
        }
      ]
    },
    {
      "metadata": {
        "id": "-y8yBglXpE5H",
        "colab_type": "code",
        "colab": {}
      },
      "cell_type": "code",
      "source": [
        ""
      ],
      "execution_count": 0,
      "outputs": []
    }
  ]
}