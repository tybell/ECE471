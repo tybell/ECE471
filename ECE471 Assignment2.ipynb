{
 "cells": [
  {
   "cell_type": "code",
   "execution_count": 1,
   "metadata": {},
   "outputs": [],
   "source": [
    "import numpy as np\n",
    "import tensorflow as tf\n",
    "import math as m\n",
    "\n",
    "\n",
    "BATCH_SIZE = 300\n",
    "num_iterations = 500\n",
    "N = 250\n",
    "\n",
    "class Data:\n",
    "\tdef __init__(self):\n",
    "\t\t\n",
    "\t\tsigma_noise = 0.2\n",
    "\t\ta = 2\n",
    "\t\tb = 1\n",
    "\t\ttheta_offset = m.pi\n",
    "\t\tself.index = np.arange(2*N)\n",
    "\t\tself.theta = np.random.uniform(low = -4.5*m.pi, high = -m.pi, size=(N,1))\n",
    "\t\tself.theta2 = self.theta+theta_offset\t\n",
    "\t\tself.noise1 = np.random.normal(scale = sigma_noise, size = (N,1))\n",
    "\t\tself.noise2 = np.random.normal(scale = sigma_noise, size = (N,1))\n",
    "\t\tself.r1 = a+b*self.theta+self.noise1\n",
    "\t\tself.r2 = a+b*self.theta+self.noise2\n",
    "\t\t\n",
    "\t\tself.x1 = self.r1*np.cos(self.theta)\n",
    "\t\tself.y1 = self.r1*np.sin(self.theta)\n",
    "\t\tself.x2 = self.r2*np.cos(self.theta2)   \n",
    "\t\tself.y2 = self.r2*np.sin(self.theta2)\n",
    "\n",
    "\t\tself.r_theta1 = np.concatenate((self.r1,self.theta), axis = 1)\n",
    "\t\tself.r_theta2 = np.concatenate((self.r2,self.theta2), axis = 1)\n",
    "\t\tself.x = np.concatenate((self.r_theta1,self.r_theta2), axis = 0)\n",
    "\n",
    "\t\tself.t1 = np.ones(shape = (N,1))\n",
    "\t\tself.t2 = np.zeros(shape = (N,1))\n",
    "\t\tself.t = np.concatenate((self.t1, self.t2), axis = 0)\n",
    "\n",
    "\tdef get_class1_coordinates(self):\n",
    "\t\treturn self.x1, self.y1\n",
    "\tdef get_class2_coordinates(self):\n",
    "\t\treturn self.x2, self.y2\n",
    "\tdef get_data(self):\n",
    "\t\treturn self.x, self.t\n",
    "\tdef get_batch(self):\n",
    "\t\tchoices = np.random.choice(self.index, size = BATCH_SIZE)\n",
    "\t\treturn self.x[choices], self.t[choices]\n",
    "\n",
    "data = Data()\n",
    "\n",
    "def f(x):\n",
    "\tw1 = tf.get_variable('w1', [2, 4], tf.float32,\n",
    "\t\t\t\t\t\ttf.random_normal_initializer())\n",
    "\tb1 = tf.get_variable('b1', [4], tf.float32,\n",
    "\t\t\t\t\t\ttf.zeros_initializer())\n",
    "\tw2 = tf.get_variable('w2', [4,1], tf.float32,\n",
    "\t\t\t\t\t\ttf.random_normal_initializer())                       \n",
    "\tb2 = tf.get_variable('b2', [1], tf.float32,\n",
    "\t\t\t\t\t\ttf.zeros_initializer())                    \t\t\t\t\t                      \n",
    "\tg = tf.nn.relu(tf.matmul(x, w1)+b1)\n",
    "\treturn tf.matmul(g,w2)+b2\n",
    "\n",
    "x = tf.placeholder(tf.float32, [BATCH_SIZE,2])\n",
    "y = tf.placeholder(tf.float32, [BATCH_SIZE,1])\n",
    "y_hat = f(x)\n",
    "\n",
    "cross_entropy_loss = tf.losses.sigmoid_cross_entropy(multi_class_labels = y, logits = y_hat)\n",
    "loss = tf.reduce_mean(cross_entropy_loss)\n",
    "l2_loss = 0.001 * tf.add_n(\n",
    "     [tf.nn.l2_loss(v) for v in tf.trainable_variables()])\n",
    "\n",
    "loss += l2_loss\n",
    "optimizer = tf.train.GradientDescentOptimizer(learning_rate=0.05).minimize(loss)\n",
    "init = tf.global_variables_initializer()\n",
    "sess = tf.Session()\n",
    "sess.run(init)\n",
    "\n",
    "losses = []\n",
    "for _ in range(num_iterations):\n",
    "\tx_batch, y_batch = data.get_batch()\n",
    "\tloss_np, _ = sess.run([loss, optimizer], feed_dict={x: x_batch, y: y_batch})\n",
    "\tlosses.append(loss_np)\n",
    "\n",
    "parameters = []\n",
    "for var in tf.get_collection(tf.GraphKeys.TRAINABLE_VARIABLES):\n",
    "\tparameter = np.array(sess.run(var))\n",
    "\tparameters.append(np.array(parameter))\n",
    "w1, b1, w2, b2 = parameters\n",
    "\n",
    "def ReLU(x):\n",
    "\treturn x*(x>0)\n",
    "def sigmoid(x):\n",
    "\treturn 1 / (1 + np.exp(-x))\n",
    "def f_(x):\n",
    "\treturn sigmoid( ReLU(x@w1+b1)@w2+b2 )\n"
   ]
  },
  {
   "cell_type": "code",
   "execution_count": 2,
   "metadata": {},
   "outputs": [
    {
     "name": "stdout",
     "output_type": "stream",
     "text": [
      "Percent Correct on Training Set:  100.0\n"
     ]
    }
   ],
   "source": [
    "x_,y_ = data.get_data()\n",
    "num_correct = 0\n",
    "\n",
    "for i, sample in enumerate(x_):\n",
    "\tif (f_(sample) < 0.5) and (y_[i] == 0):\n",
    "\t\tnum_correct += 1\n",
    "\telif (f_(sample) > 0.5) and (y_[i] == 1):\n",
    "\t\tnum_correct += 1\n",
    "percent_correct = num_correct/(len(y_))*100\n",
    "print('Percent Correct on Training Set: ', percent_correct)"
   ]
  },
  {
   "cell_type": "code",
   "execution_count": 4,
   "metadata": {},
   "outputs": [
    {
     "data": {
      "image/png": "[encoded data removed]",
      "text/plain": [
       "<Figure size 432x288 with 1 Axes>"
      ]
     },
     "metadata": {},
     "output_type": "display_data"
    }
   ],
   "source": [
    "x_1,y_1 = data.get_class1_coordinates()\n",
    "x_2,y_2 = data.get_class2_coordinates()\n",
    "\n",
    "import matplotlib.pyplot as plt\n",
    "plt.figure()\n",
    "plt.scatter(x_1, y_1, color = 'b', edgecolors = 'black')\n",
    "plt.scatter(x_2, y_2, color = 'r', edgecolors = 'black')\n",
    "axes = plt.gca()\n",
    "axes.set_xlim([-15,15])\n",
    "axes.set_ylim([-15,15])\n",
    "\n",
    "plt.show()"
   ]
  }
 ],
 "metadata": {
  "kernelspec": {
   "display_name": "Python 3",
   "language": "python",
   "name": "python3"
  },
  "language_info": {
   "codemirror_mode": {
    "name": "ipython",
    "version": 3
   },
   "file_extension": ".py",
   "mimetype": "text/x-python",
   "name": "python",
   "nbconvert_exporter": "python",
   "pygments_lexer": "ipython3",
   "version": "3.6.4"
  }
 },
 "nbformat": 4,
 "nbformat_minor": 2
}
