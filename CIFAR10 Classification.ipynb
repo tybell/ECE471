{
 "cells": [
  {
   "cell_type": "code",
   "execution_count": null,
   "metadata": {},
   "outputs": [
    {
     "name": "stderr",
     "output_type": "stream",
     "text": [
      "Using TensorFlow backend.\n"
     ]
    },
    {
     "name": "stdout",
     "output_type": "stream",
     "text": [
      "Train on 42500 samples, validate on 7500 samples\n",
      "Epoch 1/20\n",
      " 5088/42500 [==>...........................] - ETA: 11:40 - loss: 3.5239 - acc: 0.2722"
     ]
    }
   ],
   "source": [
    "#Keras Function API\n",
    "import keras\n",
    "from keras.layers import Input, Dense, Flatten, Activation, Conv2D, BatchNormalization, Dropout, MaxPooling2D, AveragePooling2D\n",
    "from keras.regularizers import l2\n",
    "from keras.models import Model\n",
    "from keras.datasets import cifar10\n",
    "import tensorflow as tf\n",
    "import numpy as np\n",
    "\n",
    "batch_size = 32\n",
    "num_classes = 10\n",
    "num_epochs = 20\n",
    "\n",
    "class CIFAR10_Data:\n",
    "    def __init__(self):\n",
    "        (x_train, y_train), (x_test, y_test) = cifar10.load_data()\n",
    "        self.img_shape = (32,32,3)\n",
    "        self.x_train = x_train.reshape(x_train.shape[0], self.img_shape[0], self.img_shape[1], self.img_shape[2])/255.0\n",
    "        self.y_train = keras.utils.to_categorical(y_train, num_classes)\n",
    "        self.x_test = x_test.reshape(x_test.shape[0], self.img_shape[0], self.img_shape[1], self.img_shape[2])/255.0\n",
    "        self.y_test = keras.utils.to_categorical(y_test, num_classes)\n",
    "    def train(self):\n",
    "        indices = np.arange(len(y_train))\n",
    "        random_indices = np.random.choice(indices)\n",
    "        return self.x_train[random_indices], self.y_train[random_indices]\n",
    "    def test(self):\n",
    "        return self.x_test, self.y_test\n",
    "    def input_shape(self):\n",
    "        return self.img_shape\n",
    "\n",
    "data = CIFAR10_Data()\n",
    "def ComputationalGraph2(inputs):\n",
    "    x = Conv2D(64, (3,3), kernel_initializer = 'he_normal', activation='relu')(inputs)\n",
    "    x = MaxPooling2D((2,2))(x)\n",
    "    x = Conv2D(128, (3,3), kernel_initializer = 'he_normal')(x)\n",
    "    x = MaxPooling2D((2,2))(x)\n",
    "    x = BatchNormalization()(x)\n",
    "    x = Activation('relu')(x)\n",
    "    x = Dropout(0.4)(x)\n",
    "\n",
    "    x = Inception(x)\n",
    "    x = Inception(x)\n",
    "    x = MaxPooling2D((2,2))(x)\n",
    "    x = BatchNormalization()(x)\n",
    "    x = Dropout(0.2)(x)\n",
    "\n",
    "    x = Inception(x)\n",
    "    x = Inception(x)\n",
    "    x = MaxPooling2D((2,2))(x)\n",
    "    x = BatchNormalization()(x)\n",
    "    x = Dropout(0.2)(x)\n",
    "\n",
    "    x = Flatten()(x)\n",
    "    x = Dense(128, kernel_regularizer = l2(0.01), activation = 'relu')(x)\n",
    "    x = BatchNormalization()(x)\n",
    "    x = Dropout(0.2)(x)\n",
    "    predictions = Dense(10, activation = 'softmax')(x)\n",
    "    return predictions  \n",
    "\n",
    "def Inception(x):\n",
    "    conv_1 = Conv2D(64, (1, 1), padding='same', activation='relu')(x)\n",
    "    conv_1 = Conv2D(64, (3, 3), padding='same', activation='relu')(conv_1)\n",
    "\n",
    "    conv_2 = Conv2D(64, (1, 1), padding='same', activation='relu')(x)\n",
    "    conv_2 = Conv2D(64, (5, 5), padding='same', activation='relu')(conv_2)\n",
    "\n",
    "    conv_3 = MaxPooling2D((3, 3), strides=(1, 1), padding='same')(x)\n",
    "    conv_3 = Conv2D(64, (1, 1), padding='same', activation='relu')(conv_3)\n",
    "    x = keras.layers.concatenate([conv_1, conv_2, conv_3], axis=1)\n",
    "    return x  \n",
    "  \n",
    "inputs = Input(shape = data.input_shape())\n",
    "model = Model(inputs = inputs, outputs = ComputationalGraph2(inputs)) \n",
    "model.compile(optimizer='Adam',\n",
    "    loss = 'categorical_crossentropy',\n",
    "    metrics = ['accuracy'])\n",
    "\n",
    "model.fit(data.x_train, data.y_train, verbose=True, batch_size = batch_size, epochs = 20, validation_split = 0.15)\n",
    "\n",
    "score = model.evaluate(data.x_test, data.y_test, verbose=True)\n",
    "print(score[0])\n",
    "print(score[1])"
   ]
  },
  {
   "cell_type": "code",
   "execution_count": null,
   "metadata": {},
   "outputs": [],
   "source": []
  }
 ],
 "metadata": {
  "kernelspec": {
   "display_name": "Python 3",
   "language": "python",
   "name": "python3"
  },
  "language_info": {
   "codemirror_mode": {
    "name": "ipython",
    "version": 3
   },
   "file_extension": ".py",
   "mimetype": "text/x-python",
   "name": "python",
   "nbconvert_exporter": "python",
   "pygments_lexer": "ipython3",
   "version": "3.6.4"
  }
 },
 "nbformat": 4,
 "nbformat_minor": 2
}
